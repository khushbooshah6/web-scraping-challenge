{
 "cells": [
  {
   "cell_type": "code",
   "execution_count": 3,
   "metadata": {},
   "outputs": [
    {
     "name": "stdout",
     "output_type": "stream",
     "text": [
      "Requirement already satisfied: selenium in /Users/khushbooshah/opt/anaconda3/lib/python3.7/site-packages (3.141.0)\n",
      "Requirement already satisfied: urllib3 in /Users/khushbooshah/opt/anaconda3/lib/python3.7/site-packages (from selenium) (1.24.2)\n",
      "Requirement already satisfied: splinter in /Users/khushbooshah/opt/anaconda3/lib/python3.7/site-packages (0.13.0)\n",
      "Requirement already satisfied: selenium>=3.141.0 in /Users/khushbooshah/opt/anaconda3/lib/python3.7/site-packages (from splinter) (3.141.0)\n",
      "Requirement already satisfied: six in /Users/khushbooshah/opt/anaconda3/lib/python3.7/site-packages (from splinter) (1.12.0)\n",
      "Requirement already satisfied: urllib3 in /Users/khushbooshah/opt/anaconda3/lib/python3.7/site-packages (from selenium>=3.141.0->splinter) (1.24.2)\n"
     ]
    }
   ],
   "source": [
    "import pandas as pd\n",
    "import splinter as sp\n",
    "from bs4 import SoupStrainer as ss\n",
    "!pip install selenium\n",
    "!pip install splinter\n",
    "from splinter import Browser\n",
    "from bs4 import BeautifulSoup\n",
    "import matplotlib as plt\n",
    "from bs4 import BeautifulSoup as bs\n",
    "import requests\n"
   ]
  },
  {
   "cell_type": "code",
   "execution_count": 4,
   "metadata": {},
   "outputs": [],
   "source": [
    "executable_path = {\"executable_path\": \"/usr/local/Caskroom/chromedriver/80.0.3987.106/chromedriver\"}\n",
    "browser = Browser(\"chrome\", **executable_path, headless=False)"
   ]
  },
  {
   "cell_type": "code",
   "execution_count": 5,
   "metadata": {},
   "outputs": [],
   "source": [
    "url_nasa = \"https://mars.nasa.gov/news/\"\n",
    "browser.visit(url_nasa)\n",
    "html = browser.html\n",
    "soup = bs(html, \"html.parser\")"
   ]
  },
  {
   "cell_type": "code",
   "execution_count": 6,
   "metadata": {},
   "outputs": [],
   "source": [
    "All_Titles=[]\n",
    "All_Titles_Collection = soup.find_all(\"div\", class_='list_text')\n",
    "for T in All_Titles_Collection:\n",
    "    SepDIV=T.find_all('div', class_='content_title')\n",
    "    for S in SepDIV:\n",
    "        All_Titles.append(S.a.text)"
   ]
  },
  {
   "cell_type": "code",
   "execution_count": 7,
   "metadata": {},
   "outputs": [],
   "source": [
    "All_Contents=[]\n",
    "All_Content_Collection = soup.find_all(\"div\", class_='article_teaser_body')\n",
    "for T in All_Titles_Collection:\n",
    "    SepDIV=T.find_all(\"div\", class_='article_teaser_body')\n",
    "    for S in SepDIV:\n",
    "        All_Contents.append(S.text)"
   ]
  },
  {
   "cell_type": "code",
   "execution_count": 8,
   "metadata": {},
   "outputs": [],
   "source": [
    "Mars_Image_URL=\"https://www.jpl.nasa.gov/spaceimages/?search=&category=Mars\"\n",
    "browser.visit(Mars_Image_URL)\n",
    "Mhtml=browser.html"
   ]
  },
  {
   "cell_type": "code",
   "execution_count": 9,
   "metadata": {},
   "outputs": [
    {
     "data": {
      "text/plain": [
       "'https://www.jpl.nasa.gov/spaceimages/images/wallpaper/PIA17462-1920x1200.jpg'"
      ]
     },
     "execution_count": 9,
     "metadata": {},
     "output_type": "execute_result"
    }
   ],
   "source": [
    "mars_soup=bs(Mhtml, 'lxml')\n",
    "image_url=mars_soup.find('article')['style']\n",
    "start_position=image_url.find(\"(\",0,len(image_url))+2\n",
    "end_position=image_url.find(\")\",0,len(image_url))-1\n",
    "image_url=image_url[start_position:end_position]\n",
    "featured_url = \"https://www.jpl.nasa.gov\" + str(image_url)\n",
    "featured_url"
   ]
  },
  {
   "cell_type": "code",
   "execution_count": 10,
   "metadata": {},
   "outputs": [
    {
     "name": "stdout",
     "output_type": "stream",
     "text": [
      "https://www.jpl.nasa.gov/spaceimages/images/wallpaper/PIA23745-640x350.jpg\n"
     ]
    }
   ],
   "source": [
    "Image_URL = mars_soup.find(\"img\", class_=\"thumb\")[\"src\"]\n",
    "featured_url = \"https://www.jpl.nasa.gov\" + Image_URL\n",
    "print(featured_url)"
   ]
  },
  {
   "cell_type": "code",
   "execution_count": 11,
   "metadata": {},
   "outputs": [
    {
     "name": "stdout",
     "output_type": "stream",
     "text": [
      "\n",
      "\n",
      "\n",
      "Log in\n",
      "Log in\n",
      "Sign up\n",
      "Sign up\n",
      "\n",
      "See new Tweets\n",
      "Follow\n",
      "Follow\n",
      "Mars Weather\n",
      "Mars Weather\n",
      "\n",
      "@MarsWxReport\n",
      "Updates as avail from the REMS weather instrument aboard \n",
      "@MarsCuriosity\n",
      ".  Data credit: Centro deAstrobiologia, FMI, JPL/NASA, Not an official acct.\n",
      "Gale Crater, Mars\n",
      "Gale Crater, Mars\n",
      "Gale Crater, Mars\n",
      "Joined August 2012\n",
      "49\n",
      "49\n",
      "Following\n",
      "Following\n",
      "56.6K\n",
      "56.6K\n",
      "Followers\n",
      "Followers\n",
      "Tweets\n",
      "Tweets & replies\n",
      "Media\n",
      "Likes\n",
      "Tweets\n",
      "Tweets & replies\n",
      "Media\n",
      "Likes\n"
     ]
    }
   ],
   "source": [
    "import os\n",
    "import time\n",
    "twitter_url = 'https://twitter.com/marswxreport?lang=en'\n",
    "browser.visit(twitter_url)\n",
    "time.sleep(1)\n",
    "twitterHTML = browser.html\n",
    "twitter_soup = bs(twitterHTML, 'html.parser')\n",
    "allspan = twitter_soup.body.find_all('span')\n",
    "\n",
    " \n",
    "for tweet in allspan: \n",
    "    print(tweet.text)\n",
    "    mars_weather = tweet.text\n",
    "    if 'sol' and 'pressure' in mars_weather:\n",
    "        print(mars_weather)\n",
    "        break\n",
    "    else: \n",
    "        pass"
   ]
  },
  {
   "cell_type": "code",
   "execution_count": 12,
   "metadata": {},
   "outputs": [],
   "source": [
    "mars_facts=\"https://space-facts.com/mars\"\n",
    "browser.visit(mars_facts)\n",
    "tables=pd.read_html(mars_facts)"
   ]
  },
  {
   "cell_type": "code",
   "execution_count": 13,
   "metadata": {},
   "outputs": [
    {
     "name": "stdout",
     "output_type": "stream",
     "text": [
      "<table border=\"1\" class=\"dataframe\">\n",
      "  <tbody>\n",
      "    <tr>\n",
      "      <td>Equatorial Diameter:</td>\n",
      "      <td>6,792 km</td>\n",
      "    </tr>\n",
      "    <tr>\n",
      "      <td>Polar Diameter:</td>\n",
      "      <td>6,752 km</td>\n",
      "    </tr>\n",
      "    <tr>\n",
      "      <td>Mass:</td>\n",
      "      <td>6.39 × 10^23 kg (0.11 Earths)</td>\n",
      "    </tr>\n",
      "    <tr>\n",
      "      <td>Moons:</td>\n",
      "      <td>2 (Phobos &amp; Deimos)</td>\n",
      "    </tr>\n",
      "    <tr>\n",
      "      <td>Orbit Distance:</td>\n",
      "      <td>227,943,824 km (1.38 AU)</td>\n",
      "    </tr>\n",
      "    <tr>\n",
      "      <td>Orbit Period:</td>\n",
      "      <td>687 days (1.9 years)</td>\n",
      "    </tr>\n",
      "    <tr>\n",
      "      <td>Surface Temperature:</td>\n",
      "      <td>-87 to -5 °C</td>\n",
      "    </tr>\n",
      "    <tr>\n",
      "      <td>First Record:</td>\n",
      "      <td>2nd millennium BC</td>\n",
      "    </tr>\n",
      "    <tr>\n",
      "      <td>Recorded By:</td>\n",
      "      <td>Egyptian astronomers</td>\n",
      "    </tr>\n",
      "  </tbody>\n",
      "</table>\n"
     ]
    }
   ],
   "source": [
    "mars_data = pd.DataFrame(tables[0])\n",
    "mars_facts = mars_data.to_html(header = False, index = False)\n",
    "print(mars_facts)"
   ]
  },
  {
   "cell_type": "code",
   "execution_count": 14,
   "metadata": {},
   "outputs": [],
   "source": [
    "mars_image=\"https://astrogeology.usgs.gov/search/results?q=hemisphere+enhanced&k1=target&v1=Mars\"\n",
    "browser.visit(mars_image)"
   ]
  },
  {
   "cell_type": "code",
   "execution_count": 15,
   "metadata": {},
   "outputs": [],
   "source": [
    "html = browser.html\n",
    "mh_soup = bs(html, \"html.parser\")\n",
    "hemisphere_image_urls = []\n",
    "\n",
    "result = mh_soup.find(\"div\", class_ = \"result-list\" )\n",
    "hemisphere = result.find_all(\"div\", class_=\"item\")"
   ]
  },
  {
   "cell_type": "code",
   "execution_count": 16,
   "metadata": {},
   "outputs": [],
   "source": [
    "\n",
    "for h in hemisphere:\n",
    "    title= h.h3.text.replace(\"Enhanced\",\"\")\n",
    "    subpage=\"https://astrogeology.usgs.gov\" + h.a[\"href\"]\n",
    "    browser.visit(subpage)\n",
    "    subhtml=browser.html\n",
    "    subsoup=bs(subhtml,\"html5lib\")\n",
    "    getdownloads=subsoup.find('div',class_='downloads')\n",
    "    fullimage=getdownloads.find(\"a\")[\"href\"]\n",
    "    hemisphere_image_urls.append({\"title\":title,\"img_url\":fullimage})\n",
    "    "
   ]
  },
  {
   "cell_type": "code",
   "execution_count": 17,
   "metadata": {},
   "outputs": [
    {
     "data": {
      "text/plain": [
       "[{'title': 'Cerberus Hemisphere ',\n",
       "  'img_url': 'http://astropedia.astrogeology.usgs.gov/download/Mars/Viking/cerberus_enhanced.tif/full.jpg'},\n",
       " {'title': 'Schiaparelli Hemisphere ',\n",
       "  'img_url': 'http://astropedia.astrogeology.usgs.gov/download/Mars/Viking/schiaparelli_enhanced.tif/full.jpg'},\n",
       " {'title': 'Syrtis Major Hemisphere ',\n",
       "  'img_url': 'http://astropedia.astrogeology.usgs.gov/download/Mars/Viking/syrtis_major_enhanced.tif/full.jpg'},\n",
       " {'title': 'Valles Marineris Hemisphere ',\n",
       "  'img_url': 'http://astropedia.astrogeology.usgs.gov/download/Mars/Viking/valles_marineris_enhanced.tif/full.jpg'}]"
      ]
     },
     "execution_count": 17,
     "metadata": {},
     "output_type": "execute_result"
    }
   ],
   "source": [
    "hemisphere_image_urls"
   ]
  }
 ],
 "metadata": {
  "kernelspec": {
   "display_name": "Python 3",
   "language": "python",
   "name": "python3"
  },
  "language_info": {
   "codemirror_mode": {
    "name": "ipython",
    "version": 3
   },
   "file_extension": ".py",
   "mimetype": "text/x-python",
   "name": "python",
   "nbconvert_exporter": "python",
   "pygments_lexer": "ipython3",
   "version": "3.7.4"
  }
 },
 "nbformat": 4,
 "nbformat_minor": 4
}
